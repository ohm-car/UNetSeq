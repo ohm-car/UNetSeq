{
 "cells": [
  {
   "cell_type": "code",
   "execution_count": null,
   "id": "4feab1cb",
   "metadata": {},
   "outputs": [],
   "source": [
    "import tensorflow as tf\n",
    "import numpy as np\n",
    "import cv2\n",
    "from unet.unet_model_keras import UNet\n",
    "import os\n",
    "import sys\n",
    "import skimage.io\n",
    "from pathlib import Path\n",
    "#import keras stuff? maybe"
   ]
  },
  {
   "cell_type": "code",
   "execution_count": null,
   "id": "79ca805b",
   "metadata": {},
   "outputs": [],
   "source": [
    "tf.__version__"
   ]
  },
  {
   "cell_type": "code",
   "execution_count": null,
   "id": "95be97f1",
   "metadata": {},
   "outputs": [],
   "source": [
    "videoPath = '../data/videos_croppedFrames/'\n",
    "videoNum = 'demo_025.mp4'"
   ]
  },
  {
   "cell_type": "code",
   "execution_count": null,
   "id": "2e9f2071",
   "metadata": {},
   "outputs": [],
   "source": [
    "cap = cv2.VideoCapture(os.path.join(videoPath, videoNum))\n",
    "frameList = list()\n",
    "while(cap.isOpened()):\n",
    "  # Capture frame-by-frame\n",
    "  ret, frame = cap.read()\n",
    "  if ret == True:\n",
    " \n",
    "    # Display the resulting frame\n",
    "#     cv2.imshow('Frame',frame)\n",
    "\n",
    "    res_frame = cv2.resize(frame, (384, 384), interpolation = cv2.INTER_AREA)\n",
    "    \n",
    "    frameList.append(res_frame)\n",
    " \n",
    "    # Press Q on keyboard to  exit\n",
    "    if cv2.waitKey(25) & 0xFF == ord('q'):\n",
    "      break\n",
    " \n",
    "#   Break the loop\n",
    "  else: \n",
    "    break\n",
    " \n",
    "# When everything done, release the video capture object\n",
    "cap.release()\n",
    " \n",
    "# Closes all the frames\n",
    "cv2.destroyAllWindows()"
   ]
  },
  {
   "cell_type": "code",
   "execution_count": null,
   "id": "55775a87",
   "metadata": {},
   "outputs": [],
   "source": [
    "def gen_frame_sequence(seqlen):\n",
    "#     print(seqlen)\n",
    "    \n",
    "    sequences = list()\n",
    "    \n",
    "    for i in range(449): #change to 449 later\n",
    "        tmpseq = list()\n",
    "        for j in range(seqlen//2):\n",
    "            k = i - (seqlen//2  - j)\n",
    "            tmpseq.append(frameList[k] if k >=0 else frameList[(k + (int(abs(k))))])\n",
    "        tmpseq.append(frameList[i])\n",
    "        for j in range(seqlen//2):\n",
    "            k = i + j + 1\n",
    "            tmpseq.append(frameList[k] if k <=448 else frameList[(k - (int(abs(k - 448))))])\n",
    "        sequences.append(np.array(tmpseq))\n",
    "    return sequences\n"
   ]
  },
  {
   "cell_type": "code",
   "execution_count": null,
   "id": "a4b1c0ca",
   "metadata": {},
   "outputs": [],
   "source": [
    "# weightsPath = os.path.abspath('/home/omkar/ArteryProj/test_models/model_060_1')\n",
    "# unet_model.load_weights(weightsPath)\n",
    "# print(weightsPath)"
   ]
  },
  {
   "cell_type": "code",
   "execution_count": null,
   "id": "1e4bbfc6",
   "metadata": {},
   "outputs": [],
   "source": [
    "model_dir = os.path.join(Path().resolve(), 'test_models/UNetSeq')\n",
    "print(model_dir)"
   ]
  },
  {
   "cell_type": "code",
   "execution_count": null,
   "id": "ff01d833",
   "metadata": {},
   "outputs": [],
   "source": [
    "model_dir = os.path.join(Path().resolve(),'')\n",
    "seqlen = 3\n",
    "print(model_dir)"
   ]
  },
  {
   "cell_type": "code",
   "execution_count": null,
   "id": "224667b2",
   "metadata": {},
   "outputs": [],
   "source": [
    "unet_model = tf.keras.models.load_model(os.path.join(model_dir, 'checkpoints/model_001'))\n",
    "# unet_model = tf.keras.models.load_model(os.path.join(model_dir, 'runs_slen_7/model_080'))\n",
    "# unet_model = tf.keras.models.load_model('/home/omkar/ArteryProj/test_models/model_060_2')\n",
    "# print(unet_model.summary())"
   ]
  },
  {
   "cell_type": "code",
   "execution_count": null,
   "id": "0425fabf",
   "metadata": {},
   "outputs": [],
   "source": [
    "sequences = gen_frame_sequence(seqlen)\n",
    "print(len(sequences))"
   ]
  },
  {
   "cell_type": "code",
   "execution_count": null,
   "id": "033f4395",
   "metadata": {},
   "outputs": [],
   "source": [
    "def postprocess(img, mask):\n",
    "\n",
    "    vimg = np.asarray(img, np.uint8)\n",
    "    vmask = np.asarray(mask, np.uint8)\n",
    "#     vmask = np.expand_dims(vmask, axis = 2)\n",
    "#     vmaskf = np.append(vmask, vmask, axis = 2)\n",
    "#     vmaskf = np.append(vmaskf, vmask, axis = 2)\n",
    "    vmask = vmask * [0, 0, 127]\n",
    "    # print(vmaskf)\n",
    "    # print(vimg)\n",
    "    alpha = 0.6\n",
    "\n",
    "#     print(vmask.shape, vimg.shape)\n",
    "\n",
    "    vop = np.zeros(shape = vimg.shape, dtype=np.uint8)\n",
    "\n",
    "    cv2.addWeighted(np.asarray(vmask, np.uint8), alpha, vimg, 1 - alpha, 0, vop)\n",
    "\n",
    "    return vop"
   ]
  },
  {
   "cell_type": "code",
   "execution_count": null,
   "id": "27211a7f",
   "metadata": {},
   "outputs": [],
   "source": [
    "def create_mask(pred_mask):\n",
    "    \n",
    "    pred_mask = np.array(pred_mask)\n",
    "    pred_mask = pred_mask[0] > 0.85\n",
    "    \n",
    "    pred_mask = (pred_mask) * 1\n",
    "    \n",
    "#     pred_mask = tf.math.argmin(pred_mask, axis=-1)\n",
    "#     pred_mask = pred_mask[..., tf.newaxis]\n",
    "#     print(\"pred_mask shape: \", pred_mask.shape)\n",
    "    return pred_mask"
   ]
  },
  {
   "cell_type": "code",
   "execution_count": null,
   "id": "396c2357",
   "metadata": {},
   "outputs": [],
   "source": [
    "len(sequences[0])"
   ]
  },
  {
   "cell_type": "code",
   "execution_count": null,
   "id": "96b46609",
   "metadata": {},
   "outputs": [],
   "source": [
    "fourcc = cv2.VideoWriter_fourcc(*'avc1')\n",
    "outname = 'unetseq_' + videoNum\n",
    "out = cv2.VideoWriter(outname, fourcc, 25, (384, 384))"
   ]
  },
  {
   "cell_type": "code",
   "execution_count": null,
   "id": "cc34258a",
   "metadata": {},
   "outputs": [],
   "source": [
    "ctr = 0\n",
    "for seq in sequences:\n",
    "    \n",
    "    \n",
    "    with np.printoptions(threshold=sys.maxsize):\n",
    "\n",
    "    #     images = list()\n",
    "\n",
    "    #     for fname in seq:\n",
    "\n",
    "    #         tpimg = skimage.io.imread('/home/omkar/ArteryProj/data/Imgs_demo031_squared/' + str(fname) + '.png')\n",
    "    #         images.append(tpimg)\n",
    "\n",
    "    #     images = np.array(images)\n",
    "        #expand dims if necessary\n",
    "        img = seq[seqlen//2 + 1]\n",
    "    #     print(\"img shape: \", img.shape)\n",
    "    #     images = np.expand_dims(images, axis = 0)\n",
    "        seq = np.expand_dims(seq, axis = 0)\n",
    "    #     print(\"images shape: \", images.shape)\n",
    "    #     mask = unet_model(images, training=False)\n",
    "        mask = unet_model(seq, training=False)\n",
    "#         print(\"mask shape:\", mask.shape)\n",
    "#         print(\"Mask:\", np.squeeze(mask))\n",
    "        mask = create_mask(mask)\n",
    "    #     print(\"created mask shape: \", mask.shape)\n",
    "    #     print(\"mask shape:\", mask.shape)\n",
    "    #     with np.printoptions(threshold=np.inf):\n",
    "    #         for i in mask:\n",
    "    #             for j in i:\n",
    "    #                 print(j)\n",
    "        img = postprocess(img, mask)\n",
    "\n",
    "    #     mask = np.asarray(mask, np.uint8)\n",
    "    #     mask = mask * [0, 0, 255]\n",
    "\n",
    "        ctr += 1\n",
    "        if(ctr%10 == 0):\n",
    "            print(ctr)\n",
    "\n",
    "        out.write(img)\n",
    "\n",
    "#         if(ctr > 0):\n",
    "#             break\n",
    "out.release()        "
   ]
  },
  {
   "cell_type": "code",
   "execution_count": null,
   "id": "b9fd0d94",
   "metadata": {},
   "outputs": [],
   "source": []
  }
 ],
 "metadata": {
  "kernelspec": {
   "display_name": "Python 3 (ipykernel)",
   "language": "python",
   "name": "python3"
  },
  "language_info": {
   "codemirror_mode": {
    "name": "ipython",
    "version": 3
   },
   "file_extension": ".py",
   "mimetype": "text/x-python",
   "name": "python",
   "nbconvert_exporter": "python",
   "pygments_lexer": "ipython3",
   "version": "3.10.9"
  }
 },
 "nbformat": 4,
 "nbformat_minor": 5
}
